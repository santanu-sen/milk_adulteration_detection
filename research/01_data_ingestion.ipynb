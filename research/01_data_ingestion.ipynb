{
 "cells": [
  {
   "cell_type": "code",
   "execution_count": 1,
   "metadata": {},
   "outputs": [],
   "source": [
    "import os"
   ]
  },
  {
   "cell_type": "code",
   "execution_count": 17,
   "metadata": {},
   "outputs": [
    {
     "data": {
      "text/plain": [
       "'c:\\\\Users\\\\admin\\\\Desktop\\\\JI\\\\Project\\\\capstone\\\\milk_adulteration_detection'"
      ]
     },
     "execution_count": 17,
     "metadata": {},
     "output_type": "execute_result"
    }
   ],
   "source": [
    "%pwd"
   ]
  },
  {
   "cell_type": "code",
   "execution_count": 3,
   "metadata": {},
   "outputs": [],
   "source": [
    "os.chdir('../')"
   ]
  },
  {
   "cell_type": "code",
   "execution_count": 13,
   "metadata": {},
   "outputs": [
    {
     "data": {
      "text/plain": [
       "'c:\\\\Users\\\\admin\\\\Desktop\\\\JI\\\\Project\\\\capstone\\\\milk_adulteration_detection'"
      ]
     },
     "execution_count": 13,
     "metadata": {},
     "output_type": "execute_result"
    }
   ],
   "source": [
    "%pwd"
   ]
  },
  {
   "cell_type": "code",
   "execution_count": 18,
   "metadata": {},
   "outputs": [],
   "source": [
    "from dataclasses import dataclass\n",
    "from pathlib import Path\n",
    "\n",
    "\n",
    "@dataclass(frozen=True)\n",
    "class DataIngestionConfig:\n",
    "    root_dir: Path\n",
    "    root_folder: str\n",
    "    local_data_file_gluscose: str\n",
    "    local_data_file_h202: str"
   ]
  },
  {
   "cell_type": "code",
   "execution_count": 19,
   "metadata": {},
   "outputs": [],
   "source": [
    "from detection.constants import *\n",
    "from detection.utils.common import read_yaml, create_directories"
   ]
  },
  {
   "cell_type": "code",
   "execution_count": 20,
   "metadata": {},
   "outputs": [],
   "source": [
    "class ConfigurationManager:\n",
    "    def __init__(\n",
    "        self,\n",
    "        config_filepath = CONFIG_FILE_PATH,\n",
    "        params_filepath = PARAMS_FILE_PATH):\n",
    "\n",
    "        self.config = read_yaml(config_filepath)\n",
    "        self.params = read_yaml(params_filepath)\n",
    "\n",
    "        create_directories([self.config.artifacts_root])\n",
    "\n",
    "\n",
    "    \n",
    "    def get_data_ingestion_config(self) -> DataIngestionConfig:\n",
    "        config = self.config.data_ingestion\n",
    "\n",
    "        create_directories([config.root_dir])\n",
    "\n",
    "        data_ingestion_config = DataIngestionConfig(\n",
    "            root_dir=config.root_dir,\n",
    "            root_folder=config.root_folder,\n",
    "            local_data_file_gluscose=config.local_data_file_gluscose,\n",
    "            local_data_file_h202=config.local_data_file_h202\n",
    "        )\n",
    "\n",
    "        return data_ingestion_config\n",
    "      "
   ]
  },
  {
   "cell_type": "code",
   "execution_count": 21,
   "metadata": {},
   "outputs": [
    {
     "name": "stdout",
     "output_type": "stream",
     "text": [
      "[2024-06-08 01:21:19,725: WARNING: font_manager: Matplotlib is building the font cache; this may take a moment.]\n",
      "[2024-06-08 01:21:25,643: INFO: font_manager: generated new fontManager]\n"
     ]
    }
   ],
   "source": [
    "import os\n",
    "import urllib.request as request\n",
    "from detection import logger\n",
    "from detection.utils.common import get_size\n",
    "import numpy as np\n",
    "import pandas as pd\n",
    "import cv2\n",
    "import matplotlib.pyplot as plt\n",
    "import seaborn as sns\n",
    "from scipy.signal import find_peaks\n"
   ]
  },
  {
   "cell_type": "code",
   "execution_count": null,
   "metadata": {},
   "outputs": [],
   "source": [
    "class DataIngestion:\n",
    "    def __init__(self, config: DataIngestionConfig):\n",
    "        self.config = config\n",
    "\n",
    "\n",
    "    def read_image(self, file_path):\n",
    "        img = cv2.imread(file_path, cv2.IMREAD_COLOR)\n",
    "        img_rgb = cv2.cvtColor(img, cv2.COLOR_BGR2RGB)\n",
    "        return img_rgb\n",
    "    \n",
    "    def pad_to_size(self, image, desired_height, desired_width):\n",
    "        # Get the current size of the image\n",
    "        height, width = image.shape[:2]\n",
    "\n",
    "        # Calculate the amount of padding needed\n",
    "        pad_height = max(0, desired_height - height)\n",
    "        pad_width = max(0, desired_width - width)\n",
    "\n",
    "        # Calculate the padding amounts for top, bottom, left, and right sides\n",
    "        top_pad = pad_height // 2\n",
    "        bottom_pad = pad_height - top_pad\n",
    "        left_pad = pad_width // 2\n",
    "        right_pad = pad_width - left_pad\n",
    "\n",
    "        # Pad the image with zeros\n",
    "        padded_image = cv2.copyMakeBorder(image, top_pad, bottom_pad, left_pad, right_pad, cv2.BORDER_CONSTANT, value=(0, 0, 0))\n",
    "\n",
    "        return padded_image\n",
    "\n",
    "\n",
    "    def find_contours1(self, image):\n",
    "        # Convert the image to grayscale\n",
    "        gray = cv2.cvtColor(image, cv2.COLOR_BGR2GRAY)\n",
    "\n",
    "        # Apply a threshold or any other preprocessing if needed\n",
    "        _, binary = cv2.threshold(gray, 0, 255, cv2.THRESH_BINARY)\n",
    "\n",
    "        # Find contours\n",
    "        contours, _ = cv2.findContours(binary, cv2.RETR_EXTERNAL, cv2.CHAIN_APPROX_SIMPLE)\n",
    "\n",
    "        # Sort contours based on their area in descending order and select top two contours\n",
    "        contours = sorted(contours, key=cv2.contourArea, reverse=True)[:2] if len(contours) >= 2 else contours\n",
    "\n",
    "        # Filter contours with an area less than 18000\n",
    "        contours = [contour for contour in contours if cv2.contourArea(contour) >= 10000]\n",
    "\n",
    "        # Initialize variables for left and right contours\n",
    "        left_cropped_image = np.zeros((200, 200, 3), dtype=np.uint8)\n",
    "        right_cropped_image = np.zeros((200, 200, 3), dtype=np.uint8)\n",
    "\n",
    "        if len(contours) == 1:\n",
    "            left_contour = contours[0]\n",
    "            x1, y1, w1, h1 = cv2.boundingRect(left_contour)\n",
    "            # Crop left region\n",
    "            left_cropped_image = image[y1:y1+h1, x1:x1+w1]\n",
    "        elif len(contours) == 2:\n",
    "            # Sort contours by x-coordinate\n",
    "            contours = sorted(contours, key=lambda c: cv2.boundingRect(c)[0])\n",
    "            left_contour = contours[0]\n",
    "            right_contour = contours[1]\n",
    "            x1, y1, w1, h1 = cv2.boundingRect(left_contour)\n",
    "            x2, y2, w2, h2 = cv2.boundingRect(right_contour)\n",
    "            # Crop left and right regions\n",
    "            left_cropped_image = image[y1:y1+h1, x1:x1+w1]\n",
    "            right_cropped_image = image[y2:y2+h2, x2:x2+w2]\n",
    "\n",
    "            # Pad the cropped images to 200x200\n",
    "            left_cropped_image = self.pad_to_size(left_cropped_image, 200, 200)\n",
    "            right_cropped_image = self.pad_to_size(right_cropped_image, 200, 200)\n",
    "\n",
    "            #cropping to 50x50 to get only the center portion of the patch\n",
    "            left_cropped_image = left_cropped_image[75:125,75:125,:]\n",
    "            right_cropped_image = right_cropped_image[75:125,75:125,:]\n",
    "\n",
    "            if left_cropped_image.all() == 0:\n",
    "                left_cropped_image = None\n",
    "\n",
    "            if right_cropped_image.all() == 0:\n",
    "                right_cropped_image = None\n",
    "\n",
    "        return left_cropped_image, right_cropped_image\n",
    "\n",
    "    def segment_strip1(self, image):\n",
    "\n",
    "        #Crop image to keep only black portion of machine in image\n",
    "        image_modified = image[:2000, 1000:2600]\n",
    "\n",
    "        #Make a copy of image\n",
    "        image_copy = image_modified.copy()\n",
    "\n",
    "\n",
    "        # Convert the difference image to HSV\n",
    "        img_hsv = cv2.cvtColor(image_modified, cv2.COLOR_BGR2HSV)\n",
    "\n",
    "        # Split the HSV image into individual channels\n",
    "        hue, _, _ = cv2.split(img_hsv)\n",
    "\n",
    "        #Apply thresholding\n",
    "        hue[(hue<60) | (hue>120)] = 0\n",
    "\n",
    "        # Create a square structuring element for morphological operations\n",
    "        structuring_element = np.ones((11, 11), np.uint8)\n",
    "\n",
    "\n",
    "        # Perform erosion followed by dilation to remove noise\n",
    "        eroded_image = cv2.erode(hue, structuring_element, iterations=5)\n",
    "        dilated_image = cv2.dilate(eroded_image, structuring_element, iterations=3)\n",
    "\n",
    "        # Apply the mask to the original image\n",
    "        result_image = cv2.bitwise_and(image_copy, image_copy, mask=dilated_image)\n",
    "\n",
    "        img_h, img_g = self.find_contours1(result_image)\n",
    "\n",
    "        return img_h, img_g\n",
    "\n",
    "    \n",
    "    def read_save(self, ):\n",
    "        # Traverse through all subdirectories and read images\n",
    "        for dirpath, dirnames, filenames in os.walk(self.config.root_folder):\n",
    "            for filename in filenames:\n",
    "                if filename.lower().endswith(('.jpg', '.png', '.jpeg')):\n",
    "                    # Construct the full path to the image\n",
    "                    image_path = os.path.join(dirpath, filename)\n",
    "\n",
    "                    # Read the image (using OpenCV in this example)\n",
    "                    image = self.read_image(image_path)\n",
    "\n",
    "                    img_h2o2, img_glucose = self.segment_strip1(image)\n",
    "\n",
    "                    if img_h2o2 is not None:\n",
    "\n",
    "                        h_dir = self.config.local_data_file_h202 + image_path.split('\\\\')[-2] + '\\\\'\n",
    "\n",
    "                        if not os.path.exists(h_dir):\n",
    "                            os.makedirs(h_dir)\n",
    "\n",
    "                        # save the processed image to another location\n",
    "                        cv2.imwrite(h_dir + image_path.split('\\\\')[-3] + '_' + filename[:-4] + '.png', cv2.cvtColor(img_h2o2, cv2.COLOR_RGB2BGR), [cv2.IMWRITE_PNG_COMPRESSION, 0])\n",
    "\n",
    "                    if img_glucose is not None:\n",
    "                        g_dir = self.config.local_data_file_gluscose + image_path.split('\\\\')[-2] + '\\\\'\n",
    "\n",
    "                        if not os.path.exists(g_dir):\n",
    "                            os.makedirs(g_dir)\n",
    "\n",
    "                        # save the processed image to another location\n",
    "                        cv2.imwrite(g_dir + image_path.split('\\\\')[-3] + '_' + filename[:-4] + '.png', cv2.cvtColor(img_glucose, cv2.COLOR_RGB2BGR), [cv2.IMWRITE_PNG_COMPRESSION, 0])\n",
    "\n",
    "\n",
    "    def download_file(self):\n",
    "        if not os.path.exists(self.config.local_data_file):\n",
    "            filename, headers = request.urlretrieve(\n",
    "                url = self.config.source_URL,\n",
    "                filename = self.config.local_data_file\n",
    "            )\n",
    "            logger.info(f\"{filename} download! with following info: \\n{headers}\")\n",
    "        else:\n",
    "            logger.info(f\"File already exists of size: {get_size(Path(self.config.local_data_file))}\")  \n",
    "\n",
    "\n",
    "    \n",
    "    def extract_zip_file(self):\n",
    "        \"\"\"\n",
    "        zip_file_path: str\n",
    "        Extracts the zip file into the data directory\n",
    "        Function returns None\n",
    "        \"\"\"\n",
    "        unzip_path = self.config.unzip_dir\n",
    "        os.makedirs(unzip_path, exist_ok=True)\n",
    "        with zipfile.ZipFile(self.config.local_data_file, 'r') as zip_ref:\n",
    "            zip_ref.extractall(unzip_path)\n",
    "\n"
   ]
  }
 ],
 "metadata": {
  "kernelspec": {
   "display_name": "milk_env",
   "language": "python",
   "name": "python3"
  },
  "language_info": {
   "codemirror_mode": {
    "name": "ipython",
    "version": 3
   },
   "file_extension": ".py",
   "mimetype": "text/x-python",
   "name": "python",
   "nbconvert_exporter": "python",
   "pygments_lexer": "ipython3",
   "version": "3.11.4"
  }
 },
 "nbformat": 4,
 "nbformat_minor": 2
}
